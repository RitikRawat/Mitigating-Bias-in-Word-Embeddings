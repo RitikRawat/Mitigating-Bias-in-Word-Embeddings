{
  "nbformat": 4,
  "nbformat_minor": 0,
  "metadata": {
    "colab": {
      "provenance": []
    },
    "kernelspec": {
      "name": "python3",
      "display_name": "Python 3"
    },
    "language_info": {
      "name": "python"
    }
  },
  "cells": [
    {
      "cell_type": "code",
      "source": [
        "import torchvision\n",
        "from torchview import draw_graph\n",
        "import numpy as np\n",
        "import pandas as pd\n",
        "import os\n",
        "from google.colab import drive\n",
        "from collections import defaultdict\n",
        "from scipy.spatial.distance import cosine\n",
        "from sklearn.decomposition import PCA\n",
        "import torch\n",
        "import torch.nn as nn\n",
        "import torch.optim as optim\n",
        "import torch.nn.functional as F\n",
        "from gensim.models import KeyedVectors\n",
        "from itertools import islice\n",
        "from torch.utils.data import Dataset, DataLoader\n"
      ],
      "metadata": {
        "id": "nT-QKPWkXdGZ"
      },
      "execution_count": null,
      "outputs": []
    },
    {
      "cell_type": "code",
      "source": [
        "from google.colab import drive\n",
        "drive.mount('/content/drive')\n",
        "glove_path = '/content/drive/MyDrive/word_embeddings/glove/glove.6B.300d.txt'\n",
        "def load_glove_embeddings(glove_path):\n",
        "    embeddings = {}\n",
        "    with open(glove_path, 'r', encoding='utf-8') as file:\n",
        "        for line in file:\n",
        "            values = line.split()\n",
        "            word = values[0]\n",
        "            vector = np.asarray(values[1:], dtype='float32')\n",
        "            embeddings[word] = vector\n",
        "    return embeddings\n",
        "\n",
        "glove_embeddings = load_glove_embeddings(glove_path)"
      ],
      "metadata": {
        "colab": {
          "base_uri": "https://localhost:8080/"
        },
        "id": "MHOKDAZ_ODE-",
        "outputId": "da3f622b-50d6-4806-b1c6-0e92c8c438ee"
      },
      "execution_count": null,
      "outputs": [
        {
          "output_type": "stream",
          "name": "stdout",
          "text": [
            "Mounted at /content/drive\n"
          ]
        }
      ]
    },
    {
      "cell_type": "code",
      "source": [
        "def normalize_embeddings(embeddings):\n",
        "    norm_embeddings = {}\n",
        "    for word, vec in embeddings.items():\n",
        "        norm_embeddings[word] = vec / np.linalg.norm(vec)\n",
        "    return norm_embeddings\n",
        "\n",
        "normalized_glove_embeddings = normalize_embeddings(glove_embeddings)"
      ],
      "metadata": {
        "id": "4Fh8nvjDODSk"
      },
      "execution_count": null,
      "outputs": []
    },
    {
      "cell_type": "code",
      "source": [
        "occupation_words = []\n",
        "with open('words.txt','r') as file:\n",
        "  occupation_words = [line.rstrip().replace(' ','-').lower() for line in file]\n",
        "def check_oov_words(word_list, embeddings):\n",
        "    oov_words = []\n",
        "    for word in word_list:\n",
        "        if word not in embeddings:\n",
        "            oov_words.append(word)\n",
        "    return oov_words\n",
        "\n",
        "\n",
        "oov_occupation = check_oov_words(occupation_words, normalized_glove_embeddings)\n",
        "occupation_words =set(occupation_words)\n",
        "oov_occupation =  set(oov_occupation)\n",
        "occupation_words = occupation_words - oov_occupation"
      ],
      "metadata": {
        "id": "-0Sv_1w4ODVi"
      },
      "execution_count": null,
      "outputs": []
    },
    {
      "cell_type": "code",
      "source": [
        "from sklearn.decomposition import PCA\n",
        "def pca(matrix):\n",
        "  n_components = 10\n",
        "  pca = PCA(n_components=n_components)\n",
        "  principal_components = pca.fit_transform(matrix)\n",
        "  principal_component_vector = pca.components_[0]\n",
        "  #principal_df = pd.DataFrame(principal_components, columns=[f\"PC{i+1}\" for i in range(n_components)])\n",
        "  print(\"Explained variance ratio of each component:\", pca.explained_variance_ratio_)\n",
        "  #print(\"Principal Components:\\n\", principal_df)\n",
        "\n",
        "  return principal_component_vector"
      ],
      "metadata": {
        "id": "92ZZZdmDODYS"
      },
      "execution_count": null,
      "outputs": []
    },
    {
      "cell_type": "code",
      "source": [
        " def get_gender_axis(normalized_glove_embeddings):fh\n",
        "  gender_pairs = [('he', 'she'),('his','her'), ('man', 'woman'),('john','mary'),('boy', 'girl'),('himself','herself'),('son','daughter'),('guy','gal'), ('father', 'mother'), ('male','female') ]\n",
        "  matrix =[]\n",
        "  for a,b in gender_pairs:\n",
        "    matrix.append(normalized_glove_embeddings[b] - normalized_glove_embeddings[a])\n",
        "  matrix = np.array(matrix)\n",
        "  df = pca(matrix)\n",
        "  return df\n",
        "\n",
        "gender_axis = get_gender_axis(normalized_glove_embeddings)"
      ],
      "metadata": {
        "colab": {
          "base_uri": "https://localhost:8080/"
        },
        "id": "XYJMRY-HODat",
        "outputId": "5606111d-d1c7-43d8-e21a-7daae5b61b7e"
      },
      "execution_count": null,
      "outputs": [
        {
          "output_type": "stream",
          "name": "stdout",
          "text": [
            "Explained variance ratio of each component: [4.0312684e-01 2.1468970e-01 1.4305896e-01 7.0180491e-02 6.0047414e-02\n",
            " 4.5551356e-02 3.2000728e-02 1.9898888e-02 1.1445663e-02 5.9663950e-15]\n"
          ]
        }
      ]
    },
    {
      "cell_type": "code",
      "source": [
        "def cosine_similarity(vec1, vec2):\n",
        "    \"\"\"Compute cosine similarity between two vectors.\"\"\"\n",
        "    return 1 - cosine(vec1, vec2)"
      ],
      "metadata": {
        "id": "3QJqlBYlODdN"
      },
      "execution_count": null,
      "outputs": []
    },
    {
      "cell_type": "code",
      "source": [
        "def compute_gender_bias(embeddings, occupation_words, gender_axis):\n",
        "    bias_scores = {}\n",
        "    for word in occupation_words:\n",
        "            similarity = cosine_similarity(embeddings[word], gender_axis)\n",
        "            bias_scores[word] = similarity\n",
        "    return bias_scores\n",
        "\n",
        "scores = compute_gender_bias(normalized_glove_embeddings,occupation_words,gender_axis)"
      ],
      "metadata": {
        "id": "9os5LsU0ODfX"
      },
      "execution_count": null,
      "outputs": []
    },
    {
      "cell_type": "code",
      "source": [
        "def calculate_direct_bias(scores):\n",
        "  final_score =0\n",
        "  for key in scores.keys():\n",
        "    final_score+=abs(scores[key])\n",
        "  final_score/= len(scores)\n",
        "  return final_score\n",
        "\n",
        "direct_bias_initial = calculate_direct_bias(scores)\n",
        "print(f'Direct Bias - Initial : {direct_bias_initial}')"
      ],
      "metadata": {
        "colab": {
          "base_uri": "https://localhost:8080/"
        },
        "id": "Gg5wjfufODiK",
        "outputId": "5142e826-711e-4361-eaec-1a9b73cb1d21"
      },
      "execution_count": null,
      "outputs": [
        {
          "output_type": "stream",
          "name": "stdout",
          "text": [
            "Direct Bias - Initial : 0.09191059272812407\n"
          ]
        }
      ]
    },
    {
      "cell_type": "code",
      "source": [
        "gender_subspace = gender_axis\n",
        "def remove_gender_bias(embeddings, gender_subspace):\n",
        "    debiased_embeddings = {}\n",
        "    for word, vector in embeddings.items():\n",
        "        projection = np.dot(vector, gender_subspace) * gender_subspace\n",
        "        debiased_vector = vector - projection\n",
        "        debiased_embeddings[word] = debiased_vector\n",
        "    return debiased_embeddings\n",
        "\n",
        "embeddings = {word:normalized_glove_embeddings[word] for word in occupation_words}\n",
        "debiased_embeddings = remove_gender_bias(embeddings, gender_subspace)\n",
        "\n",
        "\n",
        "debiased_gender_bias_scores = compute_gender_bias(debiased_embeddings,occupation_words, gender_subspace)\n",
        "direct_bias_final = calculate_direct_bias(debiased_gender_bias_scores)\n",
        "print(f'Direct Bias - Hard Debiasing : {direct_bias_final}')\n",
        "\n"
      ],
      "metadata": {
        "colab": {
          "base_uri": "https://localhost:8080/"
        },
        "id": "RbU2w_GlS2te",
        "outputId": "8ad75751-e35c-4caa-da6b-25402c1f480d"
      },
      "execution_count": null,
      "outputs": [
        {
          "output_type": "stream",
          "name": "stdout",
          "text": [
            "Direct Bias - Hard Debiasing : 1.257388032880177e-08\n"
          ]
        }
      ]
    },
    {
      "cell_type": "code",
      "source": [
        "glove_model = dict(islice(normalized_glove_embeddings.items(), 10000))\n",
        "\n",
        "def get_embedding(word):\n",
        "    if word in glove_model:\n",
        "        return glove_model[word]\n",
        "    else:\n",
        "        return np.zeros(glove_model.vector_size)\n",
        "\n",
        "class FixedEmbeddingModel(nn.Module):\n",
        "    def __init__(self, embedding_dim=300):\n",
        "        super(FixedEmbeddingModel, self).__init__()\n",
        "        self.fc1 = nn.Linear(embedding_dim, 512)\n",
        "        self.dropout1 = nn.Dropout(p=0.3)\n",
        "        self.fc2 = nn.Linear(512, 512)\n",
        "        self.dropout2 = nn.Dropout(p=0.3)\n",
        "        self.fc3 = nn.Linear(512, 256)\n",
        "        self.fc4 = nn.Linear(256, embedding_dim)\n",
        "\n",
        "    def forward(self, word_embeddings):\n",
        "        x = word_embeddings\n",
        "        x = F.relu(self.fc1(x))\n",
        "        x = self.dropout1(x)\n",
        "        x = F.relu(self.fc2(x))\n",
        "        x = self.dropout2(x)\n",
        "        x = F.relu(self.fc3(x))\n",
        "        x = self.fc4(x) + word_embeddings\n",
        "        return x"
      ],
      "metadata": {
        "id": "xVzhn-BAcvBQ"
      },
      "execution_count": null,
      "outputs": []
    },
    {
      "cell_type": "code",
      "source": [
        "class GloveDataset(Dataset):\n",
        "    def __init__(self, glove_model):\n",
        "        self.glove_model = glove_model\n",
        "        self.words = list(glove_model.keys())\n",
        "\n",
        "    def __len__(self):\n",
        "        return len(self.words)\n",
        "\n",
        "    def __getitem__(self, idx):\n",
        "        word = self.words[idx]\n",
        "        embedding = torch.tensor(self.glove_model[word], dtype=torch.float32)\n",
        "        return embedding"
      ],
      "metadata": {
        "id": "NPCMDRBGjHYN"
      },
      "execution_count": null,
      "outputs": []
    },
    {
      "cell_type": "code",
      "source": [
        "def train_embedding_autoencoder(model, glove_model, batch_size=32, epochs=100, lr=0.001):\n",
        "    dataset = GloveDataset(glove_model)\n",
        "    dataloader = DataLoader(dataset, batch_size=batch_size, shuffle=True)\n",
        "\n",
        "    optimizer = optim.Adam(model.parameters(), lr=lr)\n",
        "    criterion = nn.MSELoss()\n",
        "\n",
        "    for epoch in range(epochs):\n",
        "        model.train()\n",
        "        epoch_loss = 0\n",
        "\n",
        "        for batch in dataloader:\n",
        "            output = model(batch)\n",
        "            loss = criterion(output, batch)\n",
        "            epoch_loss += loss.item() * batch.size(0)\n",
        "\n",
        "            optimizer.zero_grad()\n",
        "            loss.backward()\n",
        "            optimizer.step()\n",
        "\n",
        "        print(f\"Epoch {epoch + 1}/{epochs}, Loss: {epoch_loss / len(dataset)}\")"
      ],
      "metadata": {
        "id": "XrqbbjA0dmNp"
      },
      "execution_count": null,
      "outputs": []
    },
    {
      "cell_type": "code",
      "source": [
        "model = FixedEmbeddingModel(embedding_dim=300)\n",
        "train_embedding_autoencoder(model, glove_model, batch_size=32, epochs=20, lr=0.0001)"
      ],
      "metadata": {
        "colab": {
          "base_uri": "https://localhost:8080/"
        },
        "id": "Z4I7TyvxfLKg",
        "outputId": "db72b5ac-4fc6-4bfe-ca6d-df3836b11dfd"
      },
      "execution_count": null,
      "outputs": [
        {
          "output_type": "stream",
          "name": "stdout",
          "text": [
            "Epoch 1/20, Loss: 0.00010669661318534054\n",
            "Epoch 2/20, Loss: 7.257941309944727e-06\n",
            "Epoch 3/20, Loss: 3.820051733782748e-06\n",
            "Epoch 4/20, Loss: 2.319976459875761e-06\n",
            "Epoch 5/20, Loss: 1.4189133267791476e-06\n",
            "Epoch 6/20, Loss: 8.391429728362709e-07\n",
            "Epoch 7/20, Loss: 4.697764663887938e-07\n",
            "Epoch 8/20, Loss: 2.3884598138010914e-07\n",
            "Epoch 9/20, Loss: 1.246315491812311e-07\n",
            "Epoch 10/20, Loss: 6.866413713169094e-08\n",
            "Epoch 11/20, Loss: 4.1182460995514705e-08\n",
            "Epoch 12/20, Loss: 2.640864771734641e-08\n",
            "Epoch 13/20, Loss: 1.6635546506904576e-08\n",
            "Epoch 14/20, Loss: 1.1698408385996118e-08\n",
            "Epoch 15/20, Loss: 7.957292577742691e-09\n",
            "Epoch 16/20, Loss: 5.453998863913512e-09\n",
            "Epoch 17/20, Loss: 3.973250188593624e-09\n",
            "Epoch 18/20, Loss: 3.3724094741671708e-09\n",
            "Epoch 19/20, Loss: 2.5331781985826752e-09\n",
            "Epoch 20/20, Loss: 1.9148527464096787e-09\n"
          ]
        }
      ]
    },
    {
      "cell_type": "code",
      "source": [
        "model_graph = draw_graph(model, input_size=(1,300), expand_nested=True)\n",
        "model_graph.visual_graph"
      ],
      "metadata": {
        "colab": {
          "base_uri": "https://localhost:8080/",
          "height": 1000
        },
        "id": "eXa3gXHbWtc1",
        "outputId": "1ac9309b-d276-4461-ca79-ea42a3b0763f"
      },
      "execution_count": null,
      "outputs": [
        {
          "output_type": "execute_result",
          "data": {
            "image/svg+xml": "<?xml version=\"1.0\" encoding=\"UTF-8\" standalone=\"no\"?>\n<!DOCTYPE svg PUBLIC \"-//W3C//DTD SVG 1.1//EN\"\n \"http://www.w3.org/Graphics/SVG/1.1/DTD/svg11.dtd\">\n<!-- Generated by graphviz version 2.43.0 (0)\n -->\n<!-- Title: model Pages: 1 -->\n<svg width=\"248pt\" height=\"864pt\"\n viewBox=\"0.00 0.00 248.11 864.00\" xmlns=\"http://www.w3.org/2000/svg\" xmlns:xlink=\"http://www.w3.org/1999/xlink\">\n<g id=\"graph0\" class=\"graph\" transform=\"scale(0.97 0.97) rotate(0) translate(4 884)\">\n<title>model</title>\n<polygon fill=\"white\" stroke=\"transparent\" points=\"-4,4 -4,-884 251,-884 251,4 -4,4\"/>\n<!-- 0 -->\n<g id=\"node1\" class=\"node\">\n<title>0</title>\n<polygon fill=\"lightyellow\" stroke=\"transparent\" points=\"171.5,-880 29.5,-880 29.5,-848 171.5,-848 171.5,-880\"/>\n<polygon fill=\"none\" stroke=\"black\" points=\"29.5,-848 29.5,-880 112.5,-880 112.5,-848 29.5,-848\"/>\n<text text-anchor=\"start\" x=\"34.5\" y=\"-867\" font-family=\"Linux libertine\" font-size=\"10.00\">input&#45;tensor</text>\n<text text-anchor=\"start\" x=\"49.5\" y=\"-856\" font-family=\"Linux libertine\" font-size=\"10.00\">depth:0</text>\n<polygon fill=\"none\" stroke=\"black\" points=\"112.5,-848 112.5,-880 171.5,-880 171.5,-848 112.5,-848\"/>\n<text text-anchor=\"start\" x=\"117.5\" y=\"-861.5\" font-family=\"Linux libertine\" font-size=\"10.00\">(1, 300)</text>\n</g>\n<!-- 1 -->\n<g id=\"node2\" class=\"node\">\n<title>1</title>\n<polygon fill=\"#c1ffc1\" stroke=\"transparent\" points=\"247,-812 70,-812 70,-770 247,-770 247,-812\"/>\n<polygon fill=\"none\" stroke=\"black\" points=\"70.5,-770 70.5,-812 123.5,-812 123.5,-770 70.5,-770\"/>\n<text text-anchor=\"start\" x=\"78.5\" y=\"-794\" font-family=\"Linux libertine\" font-size=\"10.00\">Linear</text>\n<text text-anchor=\"start\" x=\"75.5\" y=\"-783\" font-family=\"Linux libertine\" font-size=\"10.00\">depth:1</text>\n<polygon fill=\"none\" stroke=\"black\" points=\"123.5,-791 123.5,-812 182.5,-812 182.5,-791 123.5,-791\"/>\n<text text-anchor=\"start\" x=\"134.5\" y=\"-799\" font-family=\"Linux libertine\" font-size=\"10.00\">input:</text>\n<polygon fill=\"none\" stroke=\"black\" points=\"182.5,-791 182.5,-812 247.5,-812 247.5,-791 182.5,-791\"/>\n<text text-anchor=\"start\" x=\"187.5\" y=\"-799\" font-family=\"Linux libertine\" font-size=\"10.00\">(1, 300) </text>\n<polygon fill=\"none\" stroke=\"black\" points=\"123.5,-770 123.5,-791 182.5,-791 182.5,-770 123.5,-770\"/>\n<text text-anchor=\"start\" x=\"128.5\" y=\"-778\" font-family=\"Linux libertine\" font-size=\"10.00\">output: </text>\n<polygon fill=\"none\" stroke=\"black\" points=\"182.5,-770 182.5,-791 247.5,-791 247.5,-770 182.5,-770\"/>\n<text text-anchor=\"start\" x=\"187.5\" y=\"-778\" font-family=\"Linux libertine\" font-size=\"10.00\">(1, 512) </text>\n</g>\n<!-- 0&#45;&gt;1 -->\n<g id=\"edge1\" class=\"edge\">\n<title>0&#45;&gt;1</title>\n<path fill=\"none\" stroke=\"black\" d=\"M112.8,-847.94C119.45,-839.8 127.88,-829.48 135.68,-819.93\"/>\n<polygon fill=\"black\" stroke=\"black\" points=\"138.42,-822.11 142.03,-812.16 133,-817.69 138.42,-822.11\"/>\n</g>\n<!-- 10 -->\n<g id=\"node11\" class=\"node\">\n<title>10</title>\n<polygon fill=\"aliceblue\" stroke=\"transparent\" points=\"201,-110 0,-110 0,-68 201,-68 201,-110\"/>\n<polygon fill=\"none\" stroke=\"black\" points=\"0.5,-68 0.5,-110 53.5,-110 53.5,-68 0.5,-68\"/>\n<text text-anchor=\"start\" x=\"17.5\" y=\"-92\" font-family=\"Linux libertine\" font-size=\"10.00\">add</text>\n<text text-anchor=\"start\" x=\"5.5\" y=\"-81\" font-family=\"Linux libertine\" font-size=\"10.00\">depth:1</text>\n<polygon fill=\"none\" stroke=\"black\" points=\"53.5,-89 53.5,-110 112.5,-110 112.5,-89 53.5,-89\"/>\n<text text-anchor=\"start\" x=\"64.5\" y=\"-97\" font-family=\"Linux libertine\" font-size=\"10.00\">input:</text>\n<polygon fill=\"none\" stroke=\"black\" points=\"112.5,-89 112.5,-110 201.5,-110 201.5,-89 112.5,-89\"/>\n<text text-anchor=\"start\" x=\"117.5\" y=\"-97\" font-family=\"Linux libertine\" font-size=\"10.00\">2 x (1, 300) </text>\n<polygon fill=\"none\" stroke=\"black\" points=\"53.5,-68 53.5,-89 112.5,-89 112.5,-68 53.5,-68\"/>\n<text text-anchor=\"start\" x=\"58.5\" y=\"-76\" font-family=\"Linux libertine\" font-size=\"10.00\">output: </text>\n<polygon fill=\"none\" stroke=\"black\" points=\"112.5,-68 112.5,-89 201.5,-89 201.5,-68 112.5,-68\"/>\n<text text-anchor=\"start\" x=\"129.5\" y=\"-76\" font-family=\"Linux libertine\" font-size=\"10.00\">(1, 300) </text>\n</g>\n<!-- 0&#45;&gt;10 -->\n<g id=\"edge2\" class=\"edge\">\n<title>0&#45;&gt;10</title>\n<path fill=\"none\" stroke=\"black\" d=\"M85.77,-847.7C77.4,-838.16 67.44,-825.22 61.5,-812 43.32,-771.53 42.5,-758.37 42.5,-714 42.5,-714 42.5,-714 42.5,-244 42.5,-199.63 44.23,-186.87 61.5,-146 65.58,-136.34 71.5,-126.67 77.5,-118.15\"/>\n<polygon fill=\"black\" stroke=\"black\" points=\"80.35,-120.18 83.46,-110.05 74.72,-116.03 80.35,-120.18\"/>\n</g>\n<!-- 2 -->\n<g id=\"node3\" class=\"node\">\n<title>2</title>\n<polygon fill=\"aliceblue\" stroke=\"transparent\" points=\"247,-734 70,-734 70,-692 247,-692 247,-734\"/>\n<polygon fill=\"none\" stroke=\"black\" points=\"70.5,-692 70.5,-734 123.5,-734 123.5,-692 70.5,-692\"/>\n<text text-anchor=\"start\" x=\"84.5\" y=\"-716\" font-family=\"Linux libertine\" font-size=\"10.00\">relu</text>\n<text text-anchor=\"start\" x=\"75.5\" y=\"-705\" font-family=\"Linux libertine\" font-size=\"10.00\">depth:1</text>\n<polygon fill=\"none\" stroke=\"black\" points=\"123.5,-713 123.5,-734 182.5,-734 182.5,-713 123.5,-713\"/>\n<text text-anchor=\"start\" x=\"134.5\" y=\"-721\" font-family=\"Linux libertine\" font-size=\"10.00\">input:</text>\n<polygon fill=\"none\" stroke=\"black\" points=\"182.5,-713 182.5,-734 247.5,-734 247.5,-713 182.5,-713\"/>\n<text text-anchor=\"start\" x=\"187.5\" y=\"-721\" font-family=\"Linux libertine\" font-size=\"10.00\">(1, 512) </text>\n<polygon fill=\"none\" stroke=\"black\" points=\"123.5,-692 123.5,-713 182.5,-713 182.5,-692 123.5,-692\"/>\n<text text-anchor=\"start\" x=\"128.5\" y=\"-700\" font-family=\"Linux libertine\" font-size=\"10.00\">output: </text>\n<polygon fill=\"none\" stroke=\"black\" points=\"182.5,-692 182.5,-713 247.5,-713 247.5,-692 182.5,-692\"/>\n<text text-anchor=\"start\" x=\"187.5\" y=\"-700\" font-family=\"Linux libertine\" font-size=\"10.00\">(1, 512) </text>\n</g>\n<!-- 1&#45;&gt;2 -->\n<g id=\"edge3\" class=\"edge\">\n<title>1&#45;&gt;2</title>\n<path fill=\"none\" stroke=\"black\" d=\"M158.5,-769.63C158.5,-761.82 158.5,-752.73 158.5,-744.18\"/>\n<polygon fill=\"black\" stroke=\"black\" points=\"162,-744.16 158.5,-734.16 155,-744.16 162,-744.16\"/>\n</g>\n<!-- 3 -->\n<g id=\"node4\" class=\"node\">\n<title>3</title>\n<polygon fill=\"#c1ffc1\" stroke=\"transparent\" points=\"247,-656 70,-656 70,-614 247,-614 247,-656\"/>\n<polygon fill=\"none\" stroke=\"black\" points=\"70.5,-614 70.5,-656 123.5,-656 123.5,-614 70.5,-614\"/>\n<text text-anchor=\"start\" x=\"75.5\" y=\"-638\" font-family=\"Linux libertine\" font-size=\"10.00\">Dropout</text>\n<text text-anchor=\"start\" x=\"75.5\" y=\"-627\" font-family=\"Linux libertine\" font-size=\"10.00\">depth:1</text>\n<polygon fill=\"none\" stroke=\"black\" points=\"123.5,-635 123.5,-656 182.5,-656 182.5,-635 123.5,-635\"/>\n<text text-anchor=\"start\" x=\"134.5\" y=\"-643\" font-family=\"Linux libertine\" font-size=\"10.00\">input:</text>\n<polygon fill=\"none\" stroke=\"black\" points=\"182.5,-635 182.5,-656 247.5,-656 247.5,-635 182.5,-635\"/>\n<text text-anchor=\"start\" x=\"187.5\" y=\"-643\" font-family=\"Linux libertine\" font-size=\"10.00\">(1, 512) </text>\n<polygon fill=\"none\" stroke=\"black\" points=\"123.5,-614 123.5,-635 182.5,-635 182.5,-614 123.5,-614\"/>\n<text text-anchor=\"start\" x=\"128.5\" y=\"-622\" font-family=\"Linux libertine\" font-size=\"10.00\">output: </text>\n<polygon fill=\"none\" stroke=\"black\" points=\"182.5,-614 182.5,-635 247.5,-635 247.5,-614 182.5,-614\"/>\n<text text-anchor=\"start\" x=\"187.5\" y=\"-622\" font-family=\"Linux libertine\" font-size=\"10.00\">(1, 512) </text>\n</g>\n<!-- 2&#45;&gt;3 -->\n<g id=\"edge4\" class=\"edge\">\n<title>2&#45;&gt;3</title>\n<path fill=\"none\" stroke=\"black\" d=\"M158.5,-691.63C158.5,-683.82 158.5,-674.73 158.5,-666.18\"/>\n<polygon fill=\"black\" stroke=\"black\" points=\"162,-666.16 158.5,-656.16 155,-666.16 162,-666.16\"/>\n</g>\n<!-- 4 -->\n<g id=\"node5\" class=\"node\">\n<title>4</title>\n<polygon fill=\"#c1ffc1\" stroke=\"transparent\" points=\"247,-578 70,-578 70,-536 247,-536 247,-578\"/>\n<polygon fill=\"none\" stroke=\"black\" points=\"70.5,-536 70.5,-578 123.5,-578 123.5,-536 70.5,-536\"/>\n<text text-anchor=\"start\" x=\"78.5\" y=\"-560\" font-family=\"Linux libertine\" font-size=\"10.00\">Linear</text>\n<text text-anchor=\"start\" x=\"75.5\" y=\"-549\" font-family=\"Linux libertine\" font-size=\"10.00\">depth:1</text>\n<polygon fill=\"none\" stroke=\"black\" points=\"123.5,-557 123.5,-578 182.5,-578 182.5,-557 123.5,-557\"/>\n<text text-anchor=\"start\" x=\"134.5\" y=\"-565\" font-family=\"Linux libertine\" font-size=\"10.00\">input:</text>\n<polygon fill=\"none\" stroke=\"black\" points=\"182.5,-557 182.5,-578 247.5,-578 247.5,-557 182.5,-557\"/>\n<text text-anchor=\"start\" x=\"187.5\" y=\"-565\" font-family=\"Linux libertine\" font-size=\"10.00\">(1, 512) </text>\n<polygon fill=\"none\" stroke=\"black\" points=\"123.5,-536 123.5,-557 182.5,-557 182.5,-536 123.5,-536\"/>\n<text text-anchor=\"start\" x=\"128.5\" y=\"-544\" font-family=\"Linux libertine\" font-size=\"10.00\">output: </text>\n<polygon fill=\"none\" stroke=\"black\" points=\"182.5,-536 182.5,-557 247.5,-557 247.5,-536 182.5,-536\"/>\n<text text-anchor=\"start\" x=\"187.5\" y=\"-544\" font-family=\"Linux libertine\" font-size=\"10.00\">(1, 512) </text>\n</g>\n<!-- 3&#45;&gt;4 -->\n<g id=\"edge5\" class=\"edge\">\n<title>3&#45;&gt;4</title>\n<path fill=\"none\" stroke=\"black\" d=\"M158.5,-613.63C158.5,-605.82 158.5,-596.73 158.5,-588.18\"/>\n<polygon fill=\"black\" stroke=\"black\" points=\"162,-588.16 158.5,-578.16 155,-588.16 162,-588.16\"/>\n</g>\n<!-- 5 -->\n<g id=\"node6\" class=\"node\">\n<title>5</title>\n<polygon fill=\"aliceblue\" stroke=\"transparent\" points=\"247,-500 70,-500 70,-458 247,-458 247,-500\"/>\n<polygon fill=\"none\" stroke=\"black\" points=\"70.5,-458 70.5,-500 123.5,-500 123.5,-458 70.5,-458\"/>\n<text text-anchor=\"start\" x=\"84.5\" y=\"-482\" font-family=\"Linux libertine\" font-size=\"10.00\">relu</text>\n<text text-anchor=\"start\" x=\"75.5\" y=\"-471\" font-family=\"Linux libertine\" font-size=\"10.00\">depth:1</text>\n<polygon fill=\"none\" stroke=\"black\" points=\"123.5,-479 123.5,-500 182.5,-500 182.5,-479 123.5,-479\"/>\n<text text-anchor=\"start\" x=\"134.5\" y=\"-487\" font-family=\"Linux libertine\" font-size=\"10.00\">input:</text>\n<polygon fill=\"none\" stroke=\"black\" points=\"182.5,-479 182.5,-500 247.5,-500 247.5,-479 182.5,-479\"/>\n<text text-anchor=\"start\" x=\"187.5\" y=\"-487\" font-family=\"Linux libertine\" font-size=\"10.00\">(1, 512) </text>\n<polygon fill=\"none\" stroke=\"black\" points=\"123.5,-458 123.5,-479 182.5,-479 182.5,-458 123.5,-458\"/>\n<text text-anchor=\"start\" x=\"128.5\" y=\"-466\" font-family=\"Linux libertine\" font-size=\"10.00\">output: </text>\n<polygon fill=\"none\" stroke=\"black\" points=\"182.5,-458 182.5,-479 247.5,-479 247.5,-458 182.5,-458\"/>\n<text text-anchor=\"start\" x=\"187.5\" y=\"-466\" font-family=\"Linux libertine\" font-size=\"10.00\">(1, 512) </text>\n</g>\n<!-- 4&#45;&gt;5 -->\n<g id=\"edge6\" class=\"edge\">\n<title>4&#45;&gt;5</title>\n<path fill=\"none\" stroke=\"black\" d=\"M158.5,-535.63C158.5,-527.82 158.5,-518.73 158.5,-510.18\"/>\n<polygon fill=\"black\" stroke=\"black\" points=\"162,-510.16 158.5,-500.16 155,-510.16 162,-510.16\"/>\n</g>\n<!-- 6 -->\n<g id=\"node7\" class=\"node\">\n<title>6</title>\n<polygon fill=\"#c1ffc1\" stroke=\"transparent\" points=\"247,-422 70,-422 70,-380 247,-380 247,-422\"/>\n<polygon fill=\"none\" stroke=\"black\" points=\"70.5,-380 70.5,-422 123.5,-422 123.5,-380 70.5,-380\"/>\n<text text-anchor=\"start\" x=\"75.5\" y=\"-404\" font-family=\"Linux libertine\" font-size=\"10.00\">Dropout</text>\n<text text-anchor=\"start\" x=\"75.5\" y=\"-393\" font-family=\"Linux libertine\" font-size=\"10.00\">depth:1</text>\n<polygon fill=\"none\" stroke=\"black\" points=\"123.5,-401 123.5,-422 182.5,-422 182.5,-401 123.5,-401\"/>\n<text text-anchor=\"start\" x=\"134.5\" y=\"-409\" font-family=\"Linux libertine\" font-size=\"10.00\">input:</text>\n<polygon fill=\"none\" stroke=\"black\" points=\"182.5,-401 182.5,-422 247.5,-422 247.5,-401 182.5,-401\"/>\n<text text-anchor=\"start\" x=\"187.5\" y=\"-409\" font-family=\"Linux libertine\" font-size=\"10.00\">(1, 512) </text>\n<polygon fill=\"none\" stroke=\"black\" points=\"123.5,-380 123.5,-401 182.5,-401 182.5,-380 123.5,-380\"/>\n<text text-anchor=\"start\" x=\"128.5\" y=\"-388\" font-family=\"Linux libertine\" font-size=\"10.00\">output: </text>\n<polygon fill=\"none\" stroke=\"black\" points=\"182.5,-380 182.5,-401 247.5,-401 247.5,-380 182.5,-380\"/>\n<text text-anchor=\"start\" x=\"187.5\" y=\"-388\" font-family=\"Linux libertine\" font-size=\"10.00\">(1, 512) </text>\n</g>\n<!-- 5&#45;&gt;6 -->\n<g id=\"edge7\" class=\"edge\">\n<title>5&#45;&gt;6</title>\n<path fill=\"none\" stroke=\"black\" d=\"M158.5,-457.63C158.5,-449.82 158.5,-440.73 158.5,-432.18\"/>\n<polygon fill=\"black\" stroke=\"black\" points=\"162,-432.16 158.5,-422.16 155,-432.16 162,-432.16\"/>\n</g>\n<!-- 7 -->\n<g id=\"node8\" class=\"node\">\n<title>7</title>\n<polygon fill=\"#c1ffc1\" stroke=\"transparent\" points=\"247,-344 70,-344 70,-302 247,-302 247,-344\"/>\n<polygon fill=\"none\" stroke=\"black\" points=\"70.5,-302 70.5,-344 123.5,-344 123.5,-302 70.5,-302\"/>\n<text text-anchor=\"start\" x=\"78.5\" y=\"-326\" font-family=\"Linux libertine\" font-size=\"10.00\">Linear</text>\n<text text-anchor=\"start\" x=\"75.5\" y=\"-315\" font-family=\"Linux libertine\" font-size=\"10.00\">depth:1</text>\n<polygon fill=\"none\" stroke=\"black\" points=\"123.5,-323 123.5,-344 182.5,-344 182.5,-323 123.5,-323\"/>\n<text text-anchor=\"start\" x=\"134.5\" y=\"-331\" font-family=\"Linux libertine\" font-size=\"10.00\">input:</text>\n<polygon fill=\"none\" stroke=\"black\" points=\"182.5,-323 182.5,-344 247.5,-344 247.5,-323 182.5,-323\"/>\n<text text-anchor=\"start\" x=\"187.5\" y=\"-331\" font-family=\"Linux libertine\" font-size=\"10.00\">(1, 512) </text>\n<polygon fill=\"none\" stroke=\"black\" points=\"123.5,-302 123.5,-323 182.5,-323 182.5,-302 123.5,-302\"/>\n<text text-anchor=\"start\" x=\"128.5\" y=\"-310\" font-family=\"Linux libertine\" font-size=\"10.00\">output: </text>\n<polygon fill=\"none\" stroke=\"black\" points=\"182.5,-302 182.5,-323 247.5,-323 247.5,-302 182.5,-302\"/>\n<text text-anchor=\"start\" x=\"187.5\" y=\"-310\" font-family=\"Linux libertine\" font-size=\"10.00\">(1, 256) </text>\n</g>\n<!-- 6&#45;&gt;7 -->\n<g id=\"edge8\" class=\"edge\">\n<title>6&#45;&gt;7</title>\n<path fill=\"none\" stroke=\"black\" d=\"M158.5,-379.63C158.5,-371.82 158.5,-362.73 158.5,-354.18\"/>\n<polygon fill=\"black\" stroke=\"black\" points=\"162,-354.16 158.5,-344.16 155,-354.16 162,-354.16\"/>\n</g>\n<!-- 8 -->\n<g id=\"node9\" class=\"node\">\n<title>8</title>\n<polygon fill=\"aliceblue\" stroke=\"transparent\" points=\"247,-266 70,-266 70,-224 247,-224 247,-266\"/>\n<polygon fill=\"none\" stroke=\"black\" points=\"70.5,-224 70.5,-266 123.5,-266 123.5,-224 70.5,-224\"/>\n<text text-anchor=\"start\" x=\"84.5\" y=\"-248\" font-family=\"Linux libertine\" font-size=\"10.00\">relu</text>\n<text text-anchor=\"start\" x=\"75.5\" y=\"-237\" font-family=\"Linux libertine\" font-size=\"10.00\">depth:1</text>\n<polygon fill=\"none\" stroke=\"black\" points=\"123.5,-245 123.5,-266 182.5,-266 182.5,-245 123.5,-245\"/>\n<text text-anchor=\"start\" x=\"134.5\" y=\"-253\" font-family=\"Linux libertine\" font-size=\"10.00\">input:</text>\n<polygon fill=\"none\" stroke=\"black\" points=\"182.5,-245 182.5,-266 247.5,-266 247.5,-245 182.5,-245\"/>\n<text text-anchor=\"start\" x=\"187.5\" y=\"-253\" font-family=\"Linux libertine\" font-size=\"10.00\">(1, 256) </text>\n<polygon fill=\"none\" stroke=\"black\" points=\"123.5,-224 123.5,-245 182.5,-245 182.5,-224 123.5,-224\"/>\n<text text-anchor=\"start\" x=\"128.5\" y=\"-232\" font-family=\"Linux libertine\" font-size=\"10.00\">output: </text>\n<polygon fill=\"none\" stroke=\"black\" points=\"182.5,-224 182.5,-245 247.5,-245 247.5,-224 182.5,-224\"/>\n<text text-anchor=\"start\" x=\"187.5\" y=\"-232\" font-family=\"Linux libertine\" font-size=\"10.00\">(1, 256) </text>\n</g>\n<!-- 7&#45;&gt;8 -->\n<g id=\"edge9\" class=\"edge\">\n<title>7&#45;&gt;8</title>\n<path fill=\"none\" stroke=\"black\" d=\"M158.5,-301.63C158.5,-293.82 158.5,-284.73 158.5,-276.18\"/>\n<polygon fill=\"black\" stroke=\"black\" points=\"162,-276.16 158.5,-266.16 155,-276.16 162,-276.16\"/>\n</g>\n<!-- 9 -->\n<g id=\"node10\" class=\"node\">\n<title>9</title>\n<polygon fill=\"#c1ffc1\" stroke=\"transparent\" points=\"247,-188 70,-188 70,-146 247,-146 247,-188\"/>\n<polygon fill=\"none\" stroke=\"black\" points=\"70.5,-146 70.5,-188 123.5,-188 123.5,-146 70.5,-146\"/>\n<text text-anchor=\"start\" x=\"78.5\" y=\"-170\" font-family=\"Linux libertine\" font-size=\"10.00\">Linear</text>\n<text text-anchor=\"start\" x=\"75.5\" y=\"-159\" font-family=\"Linux libertine\" font-size=\"10.00\">depth:1</text>\n<polygon fill=\"none\" stroke=\"black\" points=\"123.5,-167 123.5,-188 182.5,-188 182.5,-167 123.5,-167\"/>\n<text text-anchor=\"start\" x=\"134.5\" y=\"-175\" font-family=\"Linux libertine\" font-size=\"10.00\">input:</text>\n<polygon fill=\"none\" stroke=\"black\" points=\"182.5,-167 182.5,-188 247.5,-188 247.5,-167 182.5,-167\"/>\n<text text-anchor=\"start\" x=\"187.5\" y=\"-175\" font-family=\"Linux libertine\" font-size=\"10.00\">(1, 256) </text>\n<polygon fill=\"none\" stroke=\"black\" points=\"123.5,-146 123.5,-167 182.5,-167 182.5,-146 123.5,-146\"/>\n<text text-anchor=\"start\" x=\"128.5\" y=\"-154\" font-family=\"Linux libertine\" font-size=\"10.00\">output: </text>\n<polygon fill=\"none\" stroke=\"black\" points=\"182.5,-146 182.5,-167 247.5,-167 247.5,-146 182.5,-146\"/>\n<text text-anchor=\"start\" x=\"187.5\" y=\"-154\" font-family=\"Linux libertine\" font-size=\"10.00\">(1, 300) </text>\n</g>\n<!-- 8&#45;&gt;9 -->\n<g id=\"edge10\" class=\"edge\">\n<title>8&#45;&gt;9</title>\n<path fill=\"none\" stroke=\"black\" d=\"M158.5,-223.63C158.5,-215.82 158.5,-206.73 158.5,-198.18\"/>\n<polygon fill=\"black\" stroke=\"black\" points=\"162,-198.16 158.5,-188.16 155,-198.16 162,-198.16\"/>\n</g>\n<!-- 9&#45;&gt;10 -->\n<g id=\"edge11\" class=\"edge\">\n<title>9&#45;&gt;10</title>\n<path fill=\"none\" stroke=\"black\" d=\"M142.96,-145.63C136.53,-137.22 128.98,-127.32 122.04,-118.22\"/>\n<polygon fill=\"black\" stroke=\"black\" points=\"124.73,-115.99 115.88,-110.16 119.17,-120.23 124.73,-115.99\"/>\n</g>\n<!-- 11 -->\n<g id=\"node12\" class=\"node\">\n<title>11</title>\n<polygon fill=\"lightyellow\" stroke=\"transparent\" points=\"174.5,-32 26.5,-32 26.5,0 174.5,0 174.5,-32\"/>\n<polygon fill=\"none\" stroke=\"black\" points=\"26.5,0 26.5,-32 115.5,-32 115.5,0 26.5,0\"/>\n<text text-anchor=\"start\" x=\"31.5\" y=\"-19\" font-family=\"Linux libertine\" font-size=\"10.00\">output&#45;tensor</text>\n<text text-anchor=\"start\" x=\"49.5\" y=\"-8\" font-family=\"Linux libertine\" font-size=\"10.00\">depth:0</text>\n<polygon fill=\"none\" stroke=\"black\" points=\"115.5,0 115.5,-32 174.5,-32 174.5,0 115.5,0\"/>\n<text text-anchor=\"start\" x=\"120.5\" y=\"-13.5\" font-family=\"Linux libertine\" font-size=\"10.00\">(1, 300)</text>\n</g>\n<!-- 10&#45;&gt;11 -->\n<g id=\"edge12\" class=\"edge\">\n<title>10&#45;&gt;11</title>\n<path fill=\"none\" stroke=\"black\" d=\"M100.5,-67.84C100.5,-59.89 100.5,-50.66 100.5,-42.26\"/>\n<polygon fill=\"black\" stroke=\"black\" points=\"104,-42.24 100.5,-32.24 97,-42.24 104,-42.24\"/>\n</g>\n</g>\n</svg>\n",
            "text/plain": [
              "<graphviz.graphs.Digraph at 0x7fcad9e6aad0>"
            ]
          },
          "metadata": {},
          "execution_count": 125
        }
      ]
    },
    {
      "cell_type": "code",
      "source": [
        "def evaluate_embedding_autoencoder(model, glove_model, batch_size=32):\n",
        "    model.eval()\n",
        "    dataset = GloveDataset(glove_model)\n",
        "    dataloader = DataLoader(dataset, batch_size=batch_size, shuffle=False)\n",
        "    criterion = nn.MSELoss()\n",
        "\n",
        "    total_loss = 0\n",
        "\n",
        "    with torch.no_grad():\n",
        "        for batch in dataloader:\n",
        "            output = model(batch)\n",
        "            loss = criterion(output, batch)\n",
        "            total_loss += loss.item() * batch.size(0)\n",
        "\n",
        "    avg_loss = total_loss / len(dataset)\n",
        "    print(f\"Evaluation Loss (Reconstruction Error): {avg_loss}\")\n",
        "    return avg_loss"
      ],
      "metadata": {
        "id": "BAzdQ0Ccn_Qb"
      },
      "execution_count": null,
      "outputs": []
    },
    {
      "cell_type": "code",
      "source": [
        "class GradientReversalLayer(torch.autograd.Function):\n",
        "    @staticmethod\n",
        "    def forward(ctx, x, alpha=1.0):\n",
        "        ctx.alpha = alpha\n",
        "        return x.clone()\n",
        "\n",
        "    @staticmethod\n",
        "    def backward(ctx, grad_output):\n",
        "        return -ctx.alpha * grad_output, None\n",
        "\n",
        "def apply_grl(x, alpha=1.0):\n",
        "    return GradientReversalLayer.apply(x, alpha)\n",
        "\n",
        "class AdversaryModel(nn.Module):\n",
        "    def __init__(self, input_dim):\n",
        "        super(AdversaryModel, self).__init__()\n",
        "        self.fc1 = nn.Linear(input_dim, 128)\n",
        "        # self.fc2 = nn.Linear(128, 256)\n",
        "        # self.fc3 = nn.Linear(256, 128)\n",
        "        self.fc4 = nn.Linear(128, 1)\n",
        "        self.sigmoid = nn.Sigmoid()\n",
        "\n",
        "    def forward(self, x):\n",
        "        x = torch.relu(self.fc1(x))\n",
        "        # x = torch.relu(self.fc2(x))\n",
        "        # x = torch.relu(self.fc3(x))\n",
        "        x = self.fc4(x)\n",
        "        return self.sigmoid(x)\n",
        "\n",
        "\n",
        "\n",
        "def train_adversarial_model(glove_model,adversary_model, embedding_model, num_epochs=100, lr=0.001, alpha=1.0):\n",
        "\n",
        "    optimizer = optim.Adam(list(embedding_model.parameters()) + list(adversary_model.parameters()), lr=lr)\n",
        "    criterion = nn.BCELoss()\n",
        "    words = scores.keys()\n",
        "    labels = torch.tensor([scores[x] for x in scores.keys() ], dtype=torch.float32)\n",
        "    labels = torch.sigmoid(labels)\n",
        "    # min_score =labels.min()\n",
        "    # max_score = labels.max()\n",
        "    # labels = (labels - min_score) / (max_score - min_score)\n",
        "\n",
        "    for epoch in range(num_epochs):\n",
        "        embedding_model.train()\n",
        "        adversary_model.train()\n",
        "        optimizer.zero_grad()\n",
        "\n",
        "        embeddings = torch.stack([torch.tensor(glove_model[word], dtype=torch.float32) for word in words])\n",
        "        transformed_embeddings = embedding_model(embeddings)\n",
        "\n",
        "        reversed_embeddings = apply_grl(transformed_embeddings, alpha)\n",
        "        gender_predictions = adversary_model(reversed_embeddings).squeeze()\n",
        "\n",
        "        adversary_loss = criterion(gender_predictions, labels)\n",
        "        adversary_loss.backward()\n",
        "        optimizer.step()\n",
        "\n",
        "        if (epoch + 1) % 10 == 0:\n",
        "            print(f\"Epoch [{epoch+1}/{num_epochs}], Adversarial Loss: {adversary_loss.item():.4f}\")\n",
        "\n",
        "\n"
      ],
      "metadata": {
        "id": "UMaLwXdgqHTn"
      },
      "execution_count": null,
      "outputs": []
    },
    {
      "cell_type": "code",
      "source": [
        "import copy\n",
        "model_use = copy.deepcopy(model)"
      ],
      "metadata": {
        "id": "VbXUN18pvScf"
      },
      "execution_count": null,
      "outputs": []
    },
    {
      "cell_type": "code",
      "source": [
        "adversary_model = AdversaryModel(input_dim=300)\n",
        "train_adversarial_model(normalized_glove_embeddings,adversary_model, model_use, num_epochs=110, lr=0.0009, alpha=3.5)"
      ],
      "metadata": {
        "colab": {
          "base_uri": "https://localhost:8080/"
        },
        "id": "SNWLD11Yq60b",
        "outputId": "f6b382cf-c7a9-4dc2-8f05-944aebbf61bc"
      },
      "execution_count": null,
      "outputs": [
        {
          "output_type": "stream",
          "name": "stdout",
          "text": [
            "Epoch [10/110], Adversarial Loss: 0.6919\n",
            "Epoch [20/110], Adversarial Loss: 0.6921\n",
            "Epoch [30/110], Adversarial Loss: 0.7045\n",
            "Epoch [40/110], Adversarial Loss: 0.7164\n",
            "Epoch [50/110], Adversarial Loss: 0.6947\n",
            "Epoch [60/110], Adversarial Loss: 0.6954\n",
            "Epoch [70/110], Adversarial Loss: 0.7041\n",
            "Epoch [80/110], Adversarial Loss: 0.7003\n",
            "Epoch [90/110], Adversarial Loss: 0.7101\n",
            "Epoch [100/110], Adversarial Loss: 0.8247\n",
            "Epoch [110/110], Adversarial Loss: 1.1907\n"
          ]
        }
      ]
    },
    {
      "cell_type": "code",
      "source": [
        "model_graph = draw_graph(adversary_model, input_size=(1,300), expand_nested=True)\n",
        "model_graph.visual_graph"
      ],
      "metadata": {
        "id": "wWs4VXRaXBws",
        "outputId": "f5a7a6c4-453f-4d77-a98f-5f29cde454f1",
        "colab": {
          "base_uri": "https://localhost:8080/",
          "height": 582
        }
      },
      "execution_count": null,
      "outputs": [
        {
          "output_type": "execute_result",
          "data": {
            "image/svg+xml": "<?xml version=\"1.0\" encoding=\"UTF-8\" standalone=\"no\"?>\n<!DOCTYPE svg PUBLIC \"-//W3C//DTD SVG 1.1//EN\"\n \"http://www.w3.org/Graphics/SVG/1.1/DTD/svg11.dtd\">\n<!-- Generated by graphviz version 2.43.0 (0)\n -->\n<!-- Title: model Pages: 1 -->\n<svg width=\"185pt\" height=\"420pt\"\n viewBox=\"0.00 0.00 185.00 420.00\" xmlns=\"http://www.w3.org/2000/svg\" xmlns:xlink=\"http://www.w3.org/1999/xlink\">\n<g id=\"graph0\" class=\"graph\" transform=\"scale(1 1) rotate(0) translate(4 416)\">\n<title>model</title>\n<polygon fill=\"white\" stroke=\"transparent\" points=\"-4,4 -4,-416 181,-416 181,4 -4,4\"/>\n<!-- 0 -->\n<g id=\"node1\" class=\"node\">\n<title>0</title>\n<polygon fill=\"lightyellow\" stroke=\"transparent\" points=\"159.5,-412 17.5,-412 17.5,-380 159.5,-380 159.5,-412\"/>\n<polygon fill=\"none\" stroke=\"black\" points=\"17.5,-380 17.5,-412 100.5,-412 100.5,-380 17.5,-380\"/>\n<text text-anchor=\"start\" x=\"22.5\" y=\"-399\" font-family=\"Linux libertine\" font-size=\"10.00\">input&#45;tensor</text>\n<text text-anchor=\"start\" x=\"37.5\" y=\"-388\" font-family=\"Linux libertine\" font-size=\"10.00\">depth:0</text>\n<polygon fill=\"none\" stroke=\"black\" points=\"100.5,-380 100.5,-412 159.5,-412 159.5,-380 100.5,-380\"/>\n<text text-anchor=\"start\" x=\"105.5\" y=\"-393.5\" font-family=\"Linux libertine\" font-size=\"10.00\">(1, 300)</text>\n</g>\n<!-- 1 -->\n<g id=\"node2\" class=\"node\">\n<title>1</title>\n<polygon fill=\"#c1ffc1\" stroke=\"transparent\" points=\"177,-344 0,-344 0,-302 177,-302 177,-344\"/>\n<polygon fill=\"none\" stroke=\"black\" points=\"0.5,-302 0.5,-344 53.5,-344 53.5,-302 0.5,-302\"/>\n<text text-anchor=\"start\" x=\"8.5\" y=\"-326\" font-family=\"Linux libertine\" font-size=\"10.00\">Linear</text>\n<text text-anchor=\"start\" x=\"5.5\" y=\"-315\" font-family=\"Linux libertine\" font-size=\"10.00\">depth:1</text>\n<polygon fill=\"none\" stroke=\"black\" points=\"53.5,-323 53.5,-344 112.5,-344 112.5,-323 53.5,-323\"/>\n<text text-anchor=\"start\" x=\"64.5\" y=\"-331\" font-family=\"Linux libertine\" font-size=\"10.00\">input:</text>\n<polygon fill=\"none\" stroke=\"black\" points=\"112.5,-323 112.5,-344 177.5,-344 177.5,-323 112.5,-323\"/>\n<text text-anchor=\"start\" x=\"117.5\" y=\"-331\" font-family=\"Linux libertine\" font-size=\"10.00\">(1, 300) </text>\n<polygon fill=\"none\" stroke=\"black\" points=\"53.5,-302 53.5,-323 112.5,-323 112.5,-302 53.5,-302\"/>\n<text text-anchor=\"start\" x=\"58.5\" y=\"-310\" font-family=\"Linux libertine\" font-size=\"10.00\">output: </text>\n<polygon fill=\"none\" stroke=\"black\" points=\"112.5,-302 112.5,-323 177.5,-323 177.5,-302 112.5,-302\"/>\n<text text-anchor=\"start\" x=\"117.5\" y=\"-310\" font-family=\"Linux libertine\" font-size=\"10.00\">(1, 128) </text>\n</g>\n<!-- 0&#45;&gt;1 -->\n<g id=\"edge1\" class=\"edge\">\n<title>0&#45;&gt;1</title>\n<path fill=\"none\" stroke=\"black\" d=\"M88.5,-379.94C88.5,-372.45 88.5,-363.12 88.5,-354.24\"/>\n<polygon fill=\"black\" stroke=\"black\" points=\"92,-354.16 88.5,-344.16 85,-354.16 92,-354.16\"/>\n</g>\n<!-- 2 -->\n<g id=\"node3\" class=\"node\">\n<title>2</title>\n<polygon fill=\"aliceblue\" stroke=\"transparent\" points=\"177,-266 0,-266 0,-224 177,-224 177,-266\"/>\n<polygon fill=\"none\" stroke=\"black\" points=\"0.5,-224 0.5,-266 53.5,-266 53.5,-224 0.5,-224\"/>\n<text text-anchor=\"start\" x=\"14.5\" y=\"-248\" font-family=\"Linux libertine\" font-size=\"10.00\">relu</text>\n<text text-anchor=\"start\" x=\"5.5\" y=\"-237\" font-family=\"Linux libertine\" font-size=\"10.00\">depth:1</text>\n<polygon fill=\"none\" stroke=\"black\" points=\"53.5,-245 53.5,-266 112.5,-266 112.5,-245 53.5,-245\"/>\n<text text-anchor=\"start\" x=\"64.5\" y=\"-253\" font-family=\"Linux libertine\" font-size=\"10.00\">input:</text>\n<polygon fill=\"none\" stroke=\"black\" points=\"112.5,-245 112.5,-266 177.5,-266 177.5,-245 112.5,-245\"/>\n<text text-anchor=\"start\" x=\"117.5\" y=\"-253\" font-family=\"Linux libertine\" font-size=\"10.00\">(1, 128) </text>\n<polygon fill=\"none\" stroke=\"black\" points=\"53.5,-224 53.5,-245 112.5,-245 112.5,-224 53.5,-224\"/>\n<text text-anchor=\"start\" x=\"58.5\" y=\"-232\" font-family=\"Linux libertine\" font-size=\"10.00\">output: </text>\n<polygon fill=\"none\" stroke=\"black\" points=\"112.5,-224 112.5,-245 177.5,-245 177.5,-224 112.5,-224\"/>\n<text text-anchor=\"start\" x=\"117.5\" y=\"-232\" font-family=\"Linux libertine\" font-size=\"10.00\">(1, 128) </text>\n</g>\n<!-- 1&#45;&gt;2 -->\n<g id=\"edge2\" class=\"edge\">\n<title>1&#45;&gt;2</title>\n<path fill=\"none\" stroke=\"black\" d=\"M88.5,-301.63C88.5,-293.82 88.5,-284.73 88.5,-276.18\"/>\n<polygon fill=\"black\" stroke=\"black\" points=\"92,-276.16 88.5,-266.16 85,-276.16 92,-276.16\"/>\n</g>\n<!-- 3 -->\n<g id=\"node4\" class=\"node\">\n<title>3</title>\n<polygon fill=\"#c1ffc1\" stroke=\"transparent\" points=\"177,-188 0,-188 0,-146 177,-146 177,-188\"/>\n<polygon fill=\"none\" stroke=\"black\" points=\"0.5,-146 0.5,-188 53.5,-188 53.5,-146 0.5,-146\"/>\n<text text-anchor=\"start\" x=\"8.5\" y=\"-170\" font-family=\"Linux libertine\" font-size=\"10.00\">Linear</text>\n<text text-anchor=\"start\" x=\"5.5\" y=\"-159\" font-family=\"Linux libertine\" font-size=\"10.00\">depth:1</text>\n<polygon fill=\"none\" stroke=\"black\" points=\"53.5,-167 53.5,-188 112.5,-188 112.5,-167 53.5,-167\"/>\n<text text-anchor=\"start\" x=\"64.5\" y=\"-175\" font-family=\"Linux libertine\" font-size=\"10.00\">input:</text>\n<polygon fill=\"none\" stroke=\"black\" points=\"112.5,-167 112.5,-188 177.5,-188 177.5,-167 112.5,-167\"/>\n<text text-anchor=\"start\" x=\"117.5\" y=\"-175\" font-family=\"Linux libertine\" font-size=\"10.00\">(1, 128) </text>\n<polygon fill=\"none\" stroke=\"black\" points=\"53.5,-146 53.5,-167 112.5,-167 112.5,-146 53.5,-146\"/>\n<text text-anchor=\"start\" x=\"58.5\" y=\"-154\" font-family=\"Linux libertine\" font-size=\"10.00\">output: </text>\n<polygon fill=\"none\" stroke=\"black\" points=\"112.5,-146 112.5,-167 177.5,-167 177.5,-146 112.5,-146\"/>\n<text text-anchor=\"start\" x=\"123.5\" y=\"-154\" font-family=\"Linux libertine\" font-size=\"10.00\">(1, 1) </text>\n</g>\n<!-- 2&#45;&gt;3 -->\n<g id=\"edge3\" class=\"edge\">\n<title>2&#45;&gt;3</title>\n<path fill=\"none\" stroke=\"black\" d=\"M88.5,-223.63C88.5,-215.82 88.5,-206.73 88.5,-198.18\"/>\n<polygon fill=\"black\" stroke=\"black\" points=\"92,-198.16 88.5,-188.16 85,-198.16 92,-198.16\"/>\n</g>\n<!-- 4 -->\n<g id=\"node5\" class=\"node\">\n<title>4</title>\n<polygon fill=\"#c1ffc1\" stroke=\"transparent\" points=\"171,-110 6,-110 6,-68 171,-68 171,-110\"/>\n<polygon fill=\"none\" stroke=\"black\" points=\"6.5,-68 6.5,-110 59.5,-110 59.5,-68 6.5,-68\"/>\n<text text-anchor=\"start\" x=\"11.5\" y=\"-92\" font-family=\"Linux libertine\" font-size=\"10.00\">Sigmoid</text>\n<text text-anchor=\"start\" x=\"11.5\" y=\"-81\" font-family=\"Linux libertine\" font-size=\"10.00\">depth:1</text>\n<polygon fill=\"none\" stroke=\"black\" points=\"59.5,-89 59.5,-110 118.5,-110 118.5,-89 59.5,-89\"/>\n<text text-anchor=\"start\" x=\"70.5\" y=\"-97\" font-family=\"Linux libertine\" font-size=\"10.00\">input:</text>\n<polygon fill=\"none\" stroke=\"black\" points=\"118.5,-89 118.5,-110 171.5,-110 171.5,-89 118.5,-89\"/>\n<text text-anchor=\"start\" x=\"123.5\" y=\"-97\" font-family=\"Linux libertine\" font-size=\"10.00\">(1, 1) </text>\n<polygon fill=\"none\" stroke=\"black\" points=\"59.5,-68 59.5,-89 118.5,-89 118.5,-68 59.5,-68\"/>\n<text text-anchor=\"start\" x=\"64.5\" y=\"-76\" font-family=\"Linux libertine\" font-size=\"10.00\">output: </text>\n<polygon fill=\"none\" stroke=\"black\" points=\"118.5,-68 118.5,-89 171.5,-89 171.5,-68 118.5,-68\"/>\n<text text-anchor=\"start\" x=\"123.5\" y=\"-76\" font-family=\"Linux libertine\" font-size=\"10.00\">(1, 1) </text>\n</g>\n<!-- 3&#45;&gt;4 -->\n<g id=\"edge4\" class=\"edge\">\n<title>3&#45;&gt;4</title>\n<path fill=\"none\" stroke=\"black\" d=\"M88.5,-145.63C88.5,-137.82 88.5,-128.73 88.5,-120.18\"/>\n<polygon fill=\"black\" stroke=\"black\" points=\"92,-120.16 88.5,-110.16 85,-120.16 92,-120.16\"/>\n</g>\n<!-- 5 -->\n<g id=\"node6\" class=\"node\">\n<title>5</title>\n<polygon fill=\"lightyellow\" stroke=\"transparent\" points=\"156.5,-32 20.5,-32 20.5,0 156.5,0 156.5,-32\"/>\n<polygon fill=\"none\" stroke=\"black\" points=\"20.5,0 20.5,-32 109.5,-32 109.5,0 20.5,0\"/>\n<text text-anchor=\"start\" x=\"25.5\" y=\"-19\" font-family=\"Linux libertine\" font-size=\"10.00\">output&#45;tensor</text>\n<text text-anchor=\"start\" x=\"43.5\" y=\"-8\" font-family=\"Linux libertine\" font-size=\"10.00\">depth:0</text>\n<polygon fill=\"none\" stroke=\"black\" points=\"109.5,0 109.5,-32 156.5,-32 156.5,0 109.5,0\"/>\n<text text-anchor=\"start\" x=\"114.5\" y=\"-13.5\" font-family=\"Linux libertine\" font-size=\"10.00\">(1, 1)</text>\n</g>\n<!-- 4&#45;&gt;5 -->\n<g id=\"edge5\" class=\"edge\">\n<title>4&#45;&gt;5</title>\n<path fill=\"none\" stroke=\"black\" d=\"M88.5,-67.84C88.5,-59.89 88.5,-50.66 88.5,-42.26\"/>\n<polygon fill=\"black\" stroke=\"black\" points=\"92,-42.24 88.5,-32.24 85,-42.24 92,-42.24\"/>\n</g>\n</g>\n</svg>\n",
            "text/plain": [
              "<graphviz.graphs.Digraph at 0x7fcad8b61f00>"
            ]
          },
          "metadata": {},
          "execution_count": 126
        }
      ]
    },
    {
      "cell_type": "code",
      "source": [
        "def get_new_embeddings(word_embedding_dict, embedding_model):\n",
        "\n",
        "    updated_embeddings = {}\n",
        "    embedding_model.eval()\n",
        "\n",
        "    with torch.no_grad():\n",
        "        for word, embedding in word_embedding_dict.items():\n",
        "           embedding_tensor = torch.tensor(embedding, dtype=torch.float32).unsqueeze(0)\n",
        "           updated_embedding = embedding_model(embedding_tensor)\n",
        "           updated_embeddings[word] = updated_embedding.squeeze(0).numpy()  # Convert tensor to numpy array and remove batch dimension\n",
        "\n",
        "    return updated_embeddings\n"
      ],
      "metadata": {
        "id": "fx1L9v1lwwye"
      },
      "execution_count": null,
      "outputs": []
    },
    {
      "cell_type": "code",
      "source": [
        "oc_embeddings = {word:normalized_glove_embeddings[word] for word in occupation_words}"
      ],
      "metadata": {
        "id": "LHdlIbuCww18"
      },
      "execution_count": null,
      "outputs": []
    },
    {
      "cell_type": "code",
      "source": [
        "updated_embeddings = get_new_embeddings(oc_embeddings, model_use)\n",
        "debiased_scores = compute_gender_bias(updated_embeddings,occupation_words, gender_subspace)\n",
        "direct_bias_adv = calculate_direct_bias(debiased_scores)\n",
        "print(f'Direct Bias - Adv : {direct_bias_adv}')"
      ],
      "metadata": {
        "id": "G2EqMbYVxeqN",
        "colab": {
          "base_uri": "https://localhost:8080/"
        },
        "outputId": "b80b0267-a906-4f50-b742-449e7a54f36c"
      },
      "execution_count": null,
      "outputs": [
        {
          "output_type": "stream",
          "name": "stdout",
          "text": [
            "Direct Bias - Adv : 0.0052856284367159365\n"
          ]
        }
      ]
    },
    {
      "cell_type": "code",
      "source": [
        "import pickle\n",
        "with open('model.pkl', 'wb') as file:\n",
        "    pickle.dump(model_use, file)"
      ],
      "metadata": {
        "id": "QEm6dN9yT1CT"
      },
      "execution_count": null,
      "outputs": []
    },
    {
      "cell_type": "code",
      "source": [
        "with open('embeddings.pkl', 'wb') as file:\n",
        "    pickle.dump(updated_embeddings,file)"
      ],
      "metadata": {
        "id": "pG8jVfTlT7F4"
      },
      "execution_count": null,
      "outputs": []
    },
    {
      "cell_type": "code",
      "source": [
        "def calculate_weat(embeddings, target_set, attribute_sets):\n",
        "\n",
        "    attribute_A, attribute_B = attribute_sets\n",
        "\n",
        "    def association(target_vector, attribute_set_vectors):\n",
        "        return np.mean([np.dot(target_vector, attr_vec) for attr_vec in attribute_set_vectors])\n",
        "\n",
        "    weat_score = 0\n",
        "    attribute_A_vectors = [embeddings.get(word, np.zeros(300)) for word in attribute_A]\n",
        "    attribute_B_vectors = [embeddings.get(word, np.zeros(300)) for word in attribute_B]\n",
        "\n",
        "    for word in target_set:\n",
        "        word_vec = embeddings.get(word, np.zeros(300))\n",
        "        weat_score += association(word_vec, attribute_A_vectors) - association(word_vec, attribute_B_vectors)\n",
        "\n",
        "    return weat_score\n",
        "\n",
        "occupation_words = [word for word in updated_embeddings]\n",
        "gendered_words_male = [\"he\", \"him\", \"his\", \"man\", \"male\"]\n",
        "gendered_words_female = [\"she\", \"her\", \"hers\", \"woman\", \"female\"]\n",
        "\n",
        "target_set = occupation_words\n",
        "attribute_sets = [gendered_words_male, gendered_words_female]\n",
        "\n",
        "\n",
        "weat_score_original = calculate_weat(normalized_glove_embeddings, target_set, attribute_sets)\n",
        "print(\"WEAT Score Original:\", weat_score_original)\n",
        "weat_score_adversarial = calculate_weat(updated_embeddings, target_set, attribute_sets)\n",
        "print(\"WEAT Score Adversarial:\", weat_score_adversarial)\n",
        "weat_score_debiased = calculate_weat(debiased_embeddings, target_set, attribute_sets)\n",
        "print(\"WEAT Score Hard Debiasing:\", weat_score_debiased)"
      ],
      "metadata": {
        "id": "Nc8eSxHEWHCT",
        "colab": {
          "base_uri": "https://localhost:8080/"
        },
        "outputId": "bdbfe4b8-c3b2-44e8-c983-d686d2b9f191"
      },
      "execution_count": null,
      "outputs": [
        {
          "output_type": "stream",
          "name": "stdout",
          "text": [
            "WEAT Score Original: -1.49872194416821\n",
            "WEAT Score Adversarial: 0.0\n",
            "WEAT Score Hard Debiasing: 0.0\n"
          ]
        }
      ]
    },
    {
      "cell_type": "code",
      "source": [
        "print(f'Direct Bias - Initial : {direct_bias_initial}')\n",
        "print(f'Direct Bias - Adversarial : {direct_bias_adv}')\n",
        "print(f'Direct Bias - Hard Debiasing : {direct_bias_final}')"
      ],
      "metadata": {
        "colab": {
          "base_uri": "https://localhost:8080/"
        },
        "id": "BoQrO-lzTkFE",
        "outputId": "aead3990-5d89-4b78-911d-28570ddcb7b8"
      },
      "execution_count": null,
      "outputs": [
        {
          "output_type": "stream",
          "name": "stdout",
          "text": [
            "Direct Bias - Initial : 0.09191059272812407\n",
            "Direct Bias - Adversarial : 0.0052856284367159365\n",
            "Direct Bias - Hard Debiasing : 1.257388032880177e-08\n"
          ]
        }
      ]
    },
    {
      "cell_type": "code",
      "source": [],
      "metadata": {
        "id": "RWlcpvhQUmHt"
      },
      "execution_count": null,
      "outputs": []
    }
  ]
}